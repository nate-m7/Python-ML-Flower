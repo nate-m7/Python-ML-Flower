{
 "cells": [
  {
   "cell_type": "code",
   "execution_count": 1,
   "metadata": {},
   "outputs": [],
   "source": [
    "%matplotlib inline"
   ]
  },
  {
   "cell_type": "code",
   "execution_count": 16,
   "metadata": {},
   "outputs": [],
   "source": [
    "from matplotlib import pyplot as plt\n",
    "import numpy as np\n"
   ]
  },
  {
   "cell_type": "code",
   "execution_count": 3,
   "metadata": {},
   "outputs": [],
   "source": [
    "\n",
    "#each point is length, width, type (0,1)\n",
    "data = [[3, 1.5, 1],\n",
    "       [2, 1, 0],\n",
    "       [4, 1.5, 1],\n",
    "       [3, 1, 0],\n",
    "       [3.5, .5, 1],\n",
    "       [2, .5, 0],\n",
    "       [5.5, 1, 1],\n",
    "       [1, 1, 0]]\n",
    "mystery_flower = [4.5, 1]"
   ]
  },
  {
   "cell_type": "code",
   "execution_count": 14,
   "metadata": {},
   "outputs": [],
   "source": [
    "# network\n",
    "\n",
    "#   o    flower type\n",
    "#  / \\   w1, w2, b\n",
    "# o   o  length, width\n",
    "\n",
    "w1 = np.random.randn()\n",
    "w2 = np.random.randn()\n",
    "b = np.random.randn()"
   ]
  },
  {
   "cell_type": "code",
   "execution_count": 7,
   "metadata": {},
   "outputs": [
    {
     "data": {
      "text/plain": [
       "1.1136542378706062"
      ]
     },
     "execution_count": 7,
     "metadata": {},
     "output_type": "execute_result"
    }
   ],
   "source": [
    "np.random.randn()"
   ]
  },
  {
   "cell_type": "code",
   "execution_count": 23,
   "metadata": {},
   "outputs": [],
   "source": [
    "def sigmoid(x):\n",
    "    return 1/(1 + np.exp(-x))\n",
    "\n",
    "# Derivate, sigmoid prime\n",
    "def sigmoid_p(x):\n",
    "    return sigmoid(x) * (1-sigmoid(x))"
   ]
  },
  {
   "cell_type": "code",
   "execution_count": 27,
   "metadata": {
    "scrolled": false
   },
   "outputs": [
    {
     "data": {
      "text/plain": [
       "[<matplotlib.lines.Line2D at 0x293ed7e52e8>]"
      ]
     },
     "execution_count": 27,
     "metadata": {},
     "output_type": "execute_result"
    },
    {
     "data": {
      "image/png": "[encoded data removed]",
      "text/plain": [
       "<Figure size 432x288 with 1 Axes>"
      ]
     },
     "metadata": {},
     "output_type": "display_data"
    }
   ],
   "source": [
    "# linspace() gives evenly spaced numbers from 'start','end', then # of intervals\n",
    "T = np.linspace(-6, 6, 100)\n",
    "#Y = sigmoid(T)\n",
    "#plt.plot(T,Y)\n",
    "#Y = sigmoid_p(T)\n",
    "plt.plot(T, sigmoid(T), c='r')\n",
    "plt.plot(T, sigmoid_p(T), c='b')"
   ]
  },
  {
   "cell_type": "code",
   "execution_count": 46,
   "metadata": {},
   "outputs": [
    {
     "data": {
      "image/png": "[encoded data removed]",
      "text/plain": [
       "<Figure size 432x288 with 1 Axes>"
      ]
     },
     "metadata": {},
     "output_type": "display_data"
    }
   ],
   "source": [
    "# Scatter Data\n",
    "\n",
    "plt.axis([0,6,0,6])\n",
    "plt.grid()\n",
    "\n",
    "for i in range(len(data)):\n",
    "    point = data[i]\n",
    "    color = \"r\"\n",
    "    # Here we match color to the 3rd 'data' value\n",
    "    if point[2] == 0:\n",
    "        # BLUE is 0, RED is 1\n",
    "        color = \"b\"\n",
    "    # x-axis is length point[0], y-axis is height point[1]\n",
    "    plt.scatter(point[0], point[1], c=color)\n",
    "    "
   ]
  },
  {
   "cell_type": "code",
   "execution_count": 61,
   "metadata": {},
   "outputs": [
    {
     "data": {
      "image/png": "[encoded data removed]",
      "text/plain": [
       "<Figure size 432x288 with 1 Axes>"
      ]
     },
     "metadata": {},
     "output_type": "display_data"
    }
   ],
   "source": [
    "# training loop\n",
    "\n",
    "def train():\n",
    "\n",
    "    #random init of weights\n",
    "    w1 = np.random.randn()\n",
    "    w2 = np.random.randn()\n",
    "    b = np.random.randn()\n",
    "\n",
    "    iterations = 10000\n",
    "    learning_rate = .1\n",
    "    costs = []\n",
    "    \n",
    "    # i in range(1, 10000):\n",
    "    for i in range(iterations):\n",
    "        # get random integers to indexes in data(which holds flower data from beginning)\n",
    "        ri = np.random.randint(len(data))\n",
    "        point = data[ri]\n",
    "        # Shows the random flowers I chose\n",
    "        #print(point)\n",
    "\n",
    "        # weighted average of the points?\n",
    "        z = point[0]*w1 + point[1]*w2 + b\n",
    "        pred = sigmoid(z)\n",
    "        #print(pred)\n",
    "\n",
    "        target = point[2]\n",
    "        # (pred - target)^2\n",
    "        cost = np.square(pred-target)\n",
    "        # Blue(0) has a greater cost, b/c the predictions were higher(closer to 1)\n",
    "\n",
    "        # Putting all the costs into this list\n",
    "        #costs.append(cost)\n",
    "\n",
    "        # Gives you updates of the cost, every 100 runs\n",
    "        if i % 100 == 0:\n",
    "            c = 0\n",
    "            # iterates through every flower, calculates cost, and puts it in an array to be graphed\n",
    "            # this way gives you less data points\n",
    "            for j in range(len(data)):\n",
    "                p = data[j]\n",
    "                p_pred = sigmoid(w1 * p[0] + w2 * p[1] + b)\n",
    "                c += np.square(p_pred - p[2])\n",
    "            costs.append(c)\n",
    "            #OTHER WAY 25:44\n",
    "            #point = data[r]\n",
    "            \n",
    "            #z = point[0]*w1 + point[1]*w2 + b\n",
    "            #pred = sigmoid(z)\n",
    "            \n",
    "            #target = point[2]\n",
    "            #cost_sum += np.square(pred - target)\n",
    "        # costs.append(cost_sum/len(data))\n",
    "\n",
    "        dcost_pred = 2 * (pred - target)\n",
    "        dpred_dz = sigmoid_p(z)\n",
    "\n",
    "        dz_dw1 = point[0]\n",
    "        dz_dw2 = point[1]\n",
    "        dz_db = 1\n",
    "\n",
    "        dcost_dz = dcost_pred * dpred_dz\n",
    "\n",
    "        dcost_dw1 = dcost_dz * dz_dw1\n",
    "        dcost_dw2 = dcost_dz * dz_dw2\n",
    "        dcost_db = dcost_dz * dz_db\n",
    "\n",
    "        w1 = w1 - learning_rate * dcost_dw1\n",
    "        w2 = w2 - learning_rate * dcost_dw2\n",
    "        b = b - learning_rate * dcost_db\n",
    "\n",
    "    return costs, w1, w2, b\n",
    "\n",
    "# Using a tuple, we return the 4 values and assign them in line\n",
    "costs, w1, w2, b = train()\n",
    "\n",
    "fig = plt.plot(costs)"
   ]
  },
  {
   "cell_type": "code",
   "execution_count": 62,
   "metadata": {},
   "outputs": [
    {
     "name": "stdout",
     "output_type": "stream",
     "text": [
      "[3, 1.5, 1]\n",
      "pred: 0.5485254214940438\n",
      "[2, 1, 0]\n",
      "pred: 0.06516105066545134\n",
      "[4, 1.5, 1]\n",
      "pred: 0.9312610679617249\n",
      "[3, 1, 0]\n",
      "pred: 0.4373305542695199\n",
      "[3.5, 0.5, 1]\n",
      "pred: 0.6241109465713878\n",
      "[2, 0.5, 0]\n",
      "pred: 0.042687247609468765\n",
      "[5.5, 1, 1]\n",
      "pred: 0.9969108654787318\n",
      "[1, 1, 0]\n",
      "pred: 0.006212119016821395\n"
     ]
    }
   ],
   "source": [
    "# used to compare the flower data w/ our prediction\n",
    "# Blue = 0, Red = 1\n",
    "for i in range(len(data)):\n",
    "    point = data[i]\n",
    "    print(point)\n",
    "    z = point[0]*w1 + point[1]*w2 + b\n",
    "    pred = sigmoid(z)\n",
    "    print(\"pred: {}\".format(pred))"
   ]
  },
  {
   "cell_type": "code",
   "execution_count": 67,
   "metadata": {},
   "outputs": [
    {
     "data": {
      "text/plain": [
       "0.9666010389590561"
      ]
     },
     "execution_count": 67,
     "metadata": {},
     "output_type": "execute_result"
    }
   ],
   "source": [
    "# Result shows that it predicted the mystery flower is Red\n",
    "z = mystery_flower[0]*w1 + mystery_flower[1]*w2 + b\n",
    "pred = sigmoid(z)\n",
    "pred"
   ]
  },
  {
   "cell_type": "code",
   "execution_count": 68,
   "metadata": {},
   "outputs": [],
   "source": [
    "import os"
   ]
  },
  {
   "cell_type": "code",
   "execution_count": null,
   "metadata": {},
   "outputs": [],
   "source": [
    "os.system"
   ]
  }
 ],
 "metadata": {
  "kernelspec": {
   "display_name": "Python 3",
   "language": "python",
   "name": "python3"
  },
  "language_info": {
   "codemirror_mode": {
    "name": "ipython",
    "version": 3
   },
   "file_extension": ".py",
   "mimetype": "text/x-python",
   "name": "python",
   "nbconvert_exporter": "python",
   "pygments_lexer": "ipython3",
   "version": "3.7.0"
  }
 },
 "nbformat": 4,
 "nbformat_minor": 2
}
